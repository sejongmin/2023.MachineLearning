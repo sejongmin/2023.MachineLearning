{
  "nbformat": 4,
  "nbformat_minor": 0,
  "metadata": {
    "kernelspec": {
      "display_name": "Python 3",
      "language": "python",
      "name": "python3"
    },
    "language_info": {
      "codemirror_mode": {
        "name": "ipython",
        "version": 3
      },
      "file_extension": ".py",
      "mimetype": "text/x-python",
      "name": "python",
      "nbconvert_exporter": "python",
      "pygments_lexer": "ipython3",
      "version": "3.6.9"
    },
    "colab": {
      "name": "ML 04장_Logistic Regression.ipynb",
      "provenance": [],
      "collapsed_sections": []
    }
  },
  "cells": [
    {
      "cell_type": "code",
      "metadata": {
        "id": "71idpMwjOO4A",
        "outputId": "23bf5636-a144-44ab-86bd-744c5397d635",
        "colab": {
          "base_uri": "https://localhost:8080/",
          "height": 54
        }
      },
      "source": [
        "# 데이터 불러오기\n",
        "import seaborn as sns # seaborn을 불러오고 SNS로 축약\n",
        "iris = sns.load_dataset('iris')  # iris라는 변수명으로 Iris data를 download\n",
        "\n",
        "X = iris.drop('species', axis=1) # 'species'열을 drop하고 input X를 정의\n",
        "y = iris['species']"
      ],
      "execution_count": 1,
      "outputs": [
        {
          "output_type": "stream",
          "text": [
            "/usr/local/lib/python3.6/dist-packages/statsmodels/tools/_testing.py:19: FutureWarning: pandas.util.testing is deprecated. Use the functions in the public API at pandas.testing instead.\n",
            "  import pandas.util.testing as tm\n"
          ],
          "name": "stderr"
        }
      ]
    },
    {
      "cell_type": "code",
      "metadata": {
        "id": "vtp2SzueOO4Q"
      },
      "source": [
        "# y data를 범주형으로 변환\n",
        "from sklearn.preprocessing import LabelEncoder    # LabelEncoder() method를 불러옴\n",
        "classle = LabelEncoder()\n",
        "y = classle.fit_transform(iris['species'].values) # species 열의 문자열을 categorical 값으로 전환"
      ],
      "execution_count": 2,
      "outputs": []
    },
    {
      "cell_type": "code",
      "metadata": {
        "id": "iYQQ8kFPOO4e"
      },
      "source": [
        "# 전체 data를 training set과 test set으로 split\n",
        "from sklearn.model_selection import train_test_split\n",
        "X_train, X_test, y_train, y_test = train_test_split(X, y, test_size=0.3,\n",
        "                                                    random_state=1, stratify=y)"
      ],
      "execution_count": 3,
      "outputs": []
    },
    {
      "cell_type": "code",
      "metadata": {
        "id": "yLX_YqrfOO4n"
      },
      "source": [
        "\n",
        "# 표준화\n",
        "from sklearn.preprocessing import StandardScaler\n",
        "sc = StandardScaler()\n",
        "sc.fit(X_train)\n",
        "X_train_std = sc.transform(X_train)\n",
        "X_test_std = sc.transform(X_test)"
      ],
      "execution_count": 4,
      "outputs": []
    },
    {
      "cell_type": "code",
      "metadata": {
        "id": "DqMtIchFOO4w"
      },
      "source": [
        "# Logistic regression\n",
        "from sklearn.linear_model import LogisticRegression\n",
        "Logit = LogisticRegression(C=200, random_state=11)  # C = 1/λ. 디폴트: L2, Auto.  \n",
        "l_1=Logit.fit(X_train_std, y_train)\n",
        "y_train_pred = Logit.predict(X_train_std)\n",
        "y_test_pred = Logit.predict(X_test_std)\n"
      ],
      "execution_count": 5,
      "outputs": []
    },
    {
      "cell_type": "code",
      "metadata": {
        "id": "dUZlivz8OO4-",
        "outputId": "27371bb4-4b97-4fd1-9041-ff8b389c10bf",
        "colab": {
          "base_uri": "https://localhost:8080/",
          "height": 54
        }
      },
      "source": [
        "# Accuracy score\n",
        "from sklearn.metrics import accuracy_score\n",
        "print(accuracy_score(y_train,y_train_pred))  \n",
        "print(accuracy_score(y_test,y_test_pred))    \n"
      ],
      "execution_count": 6,
      "outputs": [
        {
          "output_type": "stream",
          "text": [
            "0.9809523809523809\n",
            "1.0\n"
          ],
          "name": "stdout"
        }
      ]
    },
    {
      "cell_type": "code",
      "metadata": {
        "id": "sb6DOXFxOO5G",
        "outputId": "3793ad46-83ad-4607-9a48-63929dd9d712",
        "colab": {
          "base_uri": "https://localhost:8080/",
          "height": 73
        }
      },
      "source": [
        "# Confusion matrix\n",
        "from sklearn.metrics import confusion_matrix\n",
        "print(confusion_matrix(y_test, y_test_pred))  # Confusion matrix"
      ],
      "execution_count": 7,
      "outputs": [
        {
          "output_type": "stream",
          "text": [
            "[[15  0  0]\n",
            " [ 0 15  0]\n",
            " [ 0  0 15]]\n"
          ],
          "name": "stdout"
        }
      ]
    }
  ]
}
