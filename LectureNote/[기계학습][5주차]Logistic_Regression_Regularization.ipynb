{
  "nbformat": 4,
  "nbformat_minor": 0,
  "metadata": {
    "kernelspec": {
      "display_name": "Python 3",
      "language": "python",
      "name": "python3"
    },
    "language_info": {
      "codemirror_mode": {
        "name": "ipython",
        "version": 3
      },
      "file_extension": ".py",
      "mimetype": "text/x-python",
      "name": "python",
      "nbconvert_exporter": "python",
      "pygments_lexer": "ipython3",
      "version": "3.6.9"
    },
    "colab": {
      "name": "04장_Logistic Regression_Regularization.ipynb",
      "provenance": []
    }
  },
  "cells": [
    {
      "cell_type": "code",
      "metadata": {
        "id": "_255E-eAVRBN"
      },
      "source": [
        "import pandas as pd\n",
        "import numpy as np"
      ],
      "execution_count": 1,
      "outputs": []
    },
    {
      "cell_type": "code",
      "metadata": {
        "id": "M3N6aC0SVRBU",
        "outputId": "7aebe664-8e1b-4d03-f92b-3dd79985ea5e",
        "colab": {
          "base_uri": "https://localhost:8080/",
          "height": 221
        }
      },
      "source": [
        "# 데이터 불러오기. y값은 이미 범주형으로 되어있음.\n",
        "dat_wine=pd.read_csv('http://archive.ics.uci.edu/ml/machine-learning-databases/'\n",
        "                     'wine/wine.data',header=None)\n",
        "dat_wine.head()\n",
        "dat_wine.columns = ['class label', 'alchohol', 'malic acid', 'ash', \n",
        "                    'alcalinity of ash', 'magnesium', 'total phenols', \n",
        "                    'flavanoids', 'nonflavanoid phenols', \n",
        "                    'proanthocyanins', 'color intensity', 'hue', \n",
        "                    'OD208', 'proline']  # Column names\n",
        "print('class label:', np.unique(dat_wine['class label']))  # Class 출력\n",
        "dat_wine.head()"
      ],
      "execution_count": 2,
      "outputs": [
        {
          "output_type": "stream",
          "text": [
            "class label: [1 2 3]\n"
          ],
          "name": "stdout"
        },
        {
          "output_type": "execute_result",
          "data": {
            "text/html": [
              "<div>\n",
              "<style scoped>\n",
              "    .dataframe tbody tr th:only-of-type {\n",
              "        vertical-align: middle;\n",
              "    }\n",
              "\n",
              "    .dataframe tbody tr th {\n",
              "        vertical-align: top;\n",
              "    }\n",
              "\n",
              "    .dataframe thead th {\n",
              "        text-align: right;\n",
              "    }\n",
              "</style>\n",
              "<table border=\"1\" class=\"dataframe\">\n",
              "  <thead>\n",
              "    <tr style=\"text-align: right;\">\n",
              "      <th></th>\n",
              "      <th>class label</th>\n",
              "      <th>alchohol</th>\n",
              "      <th>malic acid</th>\n",
              "      <th>ash</th>\n",
              "      <th>alcalinity of ash</th>\n",
              "      <th>magnesium</th>\n",
              "      <th>total phenols</th>\n",
              "      <th>flavanoids</th>\n",
              "      <th>nonflavanoid phenols</th>\n",
              "      <th>proanthocyanins</th>\n",
              "      <th>color intensity</th>\n",
              "      <th>hue</th>\n",
              "      <th>OD208</th>\n",
              "      <th>proline</th>\n",
              "    </tr>\n",
              "  </thead>\n",
              "  <tbody>\n",
              "    <tr>\n",
              "      <th>0</th>\n",
              "      <td>1</td>\n",
              "      <td>14.23</td>\n",
              "      <td>1.71</td>\n",
              "      <td>2.43</td>\n",
              "      <td>15.6</td>\n",
              "      <td>127</td>\n",
              "      <td>2.80</td>\n",
              "      <td>3.06</td>\n",
              "      <td>0.28</td>\n",
              "      <td>2.29</td>\n",
              "      <td>5.64</td>\n",
              "      <td>1.04</td>\n",
              "      <td>3.92</td>\n",
              "      <td>1065</td>\n",
              "    </tr>\n",
              "    <tr>\n",
              "      <th>1</th>\n",
              "      <td>1</td>\n",
              "      <td>13.20</td>\n",
              "      <td>1.78</td>\n",
              "      <td>2.14</td>\n",
              "      <td>11.2</td>\n",
              "      <td>100</td>\n",
              "      <td>2.65</td>\n",
              "      <td>2.76</td>\n",
              "      <td>0.26</td>\n",
              "      <td>1.28</td>\n",
              "      <td>4.38</td>\n",
              "      <td>1.05</td>\n",
              "      <td>3.40</td>\n",
              "      <td>1050</td>\n",
              "    </tr>\n",
              "    <tr>\n",
              "      <th>2</th>\n",
              "      <td>1</td>\n",
              "      <td>13.16</td>\n",
              "      <td>2.36</td>\n",
              "      <td>2.67</td>\n",
              "      <td>18.6</td>\n",
              "      <td>101</td>\n",
              "      <td>2.80</td>\n",
              "      <td>3.24</td>\n",
              "      <td>0.30</td>\n",
              "      <td>2.81</td>\n",
              "      <td>5.68</td>\n",
              "      <td>1.03</td>\n",
              "      <td>3.17</td>\n",
              "      <td>1185</td>\n",
              "    </tr>\n",
              "    <tr>\n",
              "      <th>3</th>\n",
              "      <td>1</td>\n",
              "      <td>14.37</td>\n",
              "      <td>1.95</td>\n",
              "      <td>2.50</td>\n",
              "      <td>16.8</td>\n",
              "      <td>113</td>\n",
              "      <td>3.85</td>\n",
              "      <td>3.49</td>\n",
              "      <td>0.24</td>\n",
              "      <td>2.18</td>\n",
              "      <td>7.80</td>\n",
              "      <td>0.86</td>\n",
              "      <td>3.45</td>\n",
              "      <td>1480</td>\n",
              "    </tr>\n",
              "    <tr>\n",
              "      <th>4</th>\n",
              "      <td>1</td>\n",
              "      <td>13.24</td>\n",
              "      <td>2.59</td>\n",
              "      <td>2.87</td>\n",
              "      <td>21.0</td>\n",
              "      <td>118</td>\n",
              "      <td>2.80</td>\n",
              "      <td>2.69</td>\n",
              "      <td>0.39</td>\n",
              "      <td>1.82</td>\n",
              "      <td>4.32</td>\n",
              "      <td>1.04</td>\n",
              "      <td>2.93</td>\n",
              "      <td>735</td>\n",
              "    </tr>\n",
              "  </tbody>\n",
              "</table>\n",
              "</div>"
            ],
            "text/plain": [
              "   class label  alchohol  malic acid  ...   hue  OD208  proline\n",
              "0            1     14.23        1.71  ...  1.04   3.92     1065\n",
              "1            1     13.20        1.78  ...  1.05   3.40     1050\n",
              "2            1     13.16        2.36  ...  1.03   3.17     1185\n",
              "3            1     14.37        1.95  ...  0.86   3.45     1480\n",
              "4            1     13.24        2.59  ...  1.04   2.93      735\n",
              "\n",
              "[5 rows x 14 columns]"
            ]
          },
          "metadata": {
            "tags": []
          },
          "execution_count": 2
        }
      ]
    },
    {
      "cell_type": "code",
      "metadata": {
        "id": "nrk3YZ_pVRBZ"
      },
      "source": [
        "# 전체 data를 training set과 test set으로 split\n",
        "from sklearn.model_selection import train_test_split\n",
        "X, y = dat_wine.iloc[:,1:].values, dat_wine.iloc[:,0].values\n",
        "X_train, X_test, y_train,y_test = train_test_split(X, y, test_size=0.3, random_state=1, stratify=y)"
      ],
      "execution_count": 19,
      "outputs": []
    },
    {
      "cell_type": "code",
      "metadata": {
        "id": "vsnUWxUkVRBd"
      },
      "source": [
        "# 표준화\n",
        "from sklearn.preprocessing import StandardScaler\n",
        "std = StandardScaler()\n",
        "X_train_std = std.fit_transform(X_train)\n",
        "X_test_std = std.transform(X_test)"
      ],
      "execution_count": 4,
      "outputs": []
    },
    {
      "cell_type": "code",
      "metadata": {
        "id": "BPCtQVW6WIz-"
      },
      "source": [
        "# Logistic Regression with L2 or L1 Regularization\n",
        "from sklearn.linear_model import LogisticRegression\n",
        "lr2_10 = LogisticRegression(penalty='l2', C=10.0, solver='saga')  # L2 with C(=1/λ)=10\n",
        "lr2_1 = LogisticRegression(penalty='l2', C=1.0, solver='saga')    # L2 with C(=1/λ)=1\n",
        "lr2_0_1 = LogisticRegression(penalty='l2', C=0.1, solver='saga')  # L2 with C(=1/λ)=0.1\n",
        "\n",
        "lr1_10 = LogisticRegression(penalty='l1', C=10.0, solver='saga')  # L1 with C(=1/λ)=10\n",
        "lr1_1 = LogisticRegression(penalty='l1', C=1.0, solver='saga')    # L1 with C(=1/λ)=1\n",
        "lr1_0_1 = LogisticRegression(penalty='l1', C=0.1, solver='saga')  # L1 with C(=1/λ)=0.1"
      ],
      "execution_count": 17,
      "outputs": []
    },
    {
      "cell_type": "code",
      "metadata": {
        "id": "NZuhd0ehVRBk",
        "outputId": "13e005e5-9300-47a7-d5da-8a644744e71d",
        "colab": {
          "base_uri": "https://localhost:8080/",
          "height": 390
        }
      },
      "source": [
        "# 규제화 방법(L2 or L1)과 규제강도(λ)를 바꿔가며 accuracy score 계산\n",
        "lr2_10.fit(X_train_std, y_train)\n",
        "print('Training accuracy with L2 and λ=0.1:', lr2_10.score(X_train_std, y_train))\n",
        "print('Test accuracy with L2 and λ=0.1:', lr2_10.score(X_test_std, y_test))\n",
        "\n",
        "lr2_1.fit(X_train_std, y_train)  # warning..\n",
        "print('Training accuracy with L2 and λ=1:', lr2_1.score(X_train_std, y_train))\n",
        "print('Test accuracy with L2 and λ=1:', lr2_1.score(X_test_std, y_test))\n",
        "\n",
        "lr2_0_1.fit(X_train_std, y_train)\n",
        "print('Training accuracy with L2 and λ=10:', lr2_0_1.score(X_train_std, y_train))\n",
        "print('Test accuracy with L2 and λ=10:', lr2_0_1.score(X_test_std, y_test))\n",
        "\n",
        "lr1_10.fit(X_train_std, y_train)\n",
        "print('Training accuracy with L1 and λ=0.1:', lr1_10.score(X_train_std, y_train))\n",
        "print('Test accuracy with L1 and λ=0.1:', lr1_10.score(X_test_std, y_test))\n",
        "\n",
        "lr1_1.fit(X_train_std, y_train)\n",
        "print('Training accuracy with L1 and λ=1:', lr1_1.score(X_train_std, y_train))\n",
        "print('Test accuracy with L1 and λ=1:', lr1_1.score(X_test_std, y_test))\n",
        "\n",
        "lr1_0_1.fit(X_train_std, y_train)\n",
        "print('Training accuracy with L1 and λ=10:', lr1_0_1.score(X_train_std, y_train))\n",
        "print('Test accuracy with L1 and λ=10:', lr1_0_1.score(X_test_std, y_test))"
      ],
      "execution_count": 18,
      "outputs": [
        {
          "output_type": "stream",
          "text": [
            "Training accuracy with L2 and λ=0.1: 1.0\n",
            "Test accuracy with L2 and λ=0.1: 0.9814814814814815\n",
            "Training accuracy with L2 and λ=1: 1.0\n",
            "Test accuracy with L2 and λ=1: 0.9814814814814815\n",
            "Training accuracy with L2 and λ=10: 1.0\n",
            "Test accuracy with L2 and λ=10: 1.0\n",
            "Training accuracy with L1 and λ=0.1: 1.0\n",
            "Test accuracy with L1 and λ=0.1: 0.9814814814814815\n",
            "Training accuracy with L1 and λ=1: 1.0\n",
            "Test accuracy with L1 and λ=1: 0.9814814814814815\n",
            "Training accuracy with L1 and λ=10: 0.967741935483871\n",
            "Test accuracy with L1 and λ=10: 0.9444444444444444\n"
          ],
          "name": "stdout"
        },
        {
          "output_type": "stream",
          "text": [
            "/usr/local/lib/python3.6/dist-packages/sklearn/linear_model/_sag.py:330: ConvergenceWarning: The max_iter was reached which means the coef_ did not converge\n",
            "  \"the coef_ did not converge\", ConvergenceWarning)\n",
            "/usr/local/lib/python3.6/dist-packages/sklearn/linear_model/_sag.py:330: ConvergenceWarning: The max_iter was reached which means the coef_ did not converge\n",
            "  \"the coef_ did not converge\", ConvergenceWarning)\n",
            "/usr/local/lib/python3.6/dist-packages/sklearn/linear_model/_sag.py:330: ConvergenceWarning: The max_iter was reached which means the coef_ did not converge\n",
            "  \"the coef_ did not converge\", ConvergenceWarning)\n",
            "/usr/local/lib/python3.6/dist-packages/sklearn/linear_model/_sag.py:330: ConvergenceWarning: The max_iter was reached which means the coef_ did not converge\n",
            "  \"the coef_ did not converge\", ConvergenceWarning)\n"
          ],
          "name": "stderr"
        }
      ]
    },
    {
      "cell_type": "code",
      "metadata": {
        "id": "IFHcC2IdVRBo",
        "outputId": "32a87a6b-43ba-4db7-f4c4-5acfaff8b13d",
        "colab": {
          "base_uri": "https://localhost:8080/",
          "height": 577
        }
      },
      "source": [
        "# L2 규제의 규제강도(C=1/λ)를 바꿔가며 계수 추정치 관찰\n",
        "print(lr2_10.intercept_)\n",
        "print(lr2_1.intercept_)\n",
        "print(lr2_0_1.intercept_)\n",
        "\n",
        "print(lr2_10.coef_)\n",
        "print(lr2_1.coef_)\n",
        "print(lr2_0_1.coef_)"
      ],
      "execution_count": 13,
      "outputs": [
        {
          "output_type": "stream",
          "text": [
            "[ 0.32296362  0.60033615 -0.92329977]\n",
            "[ 0.28173282  0.6024029  -0.88413572]\n",
            "[ 0.0683881   0.45688086 -0.52526895]\n",
            "[[ 1.25664178  0.15899529  0.39926374 -1.53634982  0.08473759  0.37407767\n",
            "   0.83876311 -0.28751864  0.09268499  0.12775152  0.0722625   0.97188895\n",
            "   1.39116593]\n",
            " [-1.5372395  -0.43915291 -1.23984712  1.21218732 -0.32703465 -0.51670074\n",
            "   0.85895303  0.40866438  0.39442514 -1.36535608  1.14060554  0.02219384\n",
            "  -1.75612335]\n",
            " [ 0.28059772  0.28015763  0.84058338  0.32416249  0.24229707  0.14262307\n",
            "  -1.69771614 -0.12114574 -0.48711013  1.23760457 -1.21286804 -0.99408279\n",
            "   0.36495742]]\n",
            "[[ 0.75495729  0.06165881  0.2336697  -0.8925231   0.02649841  0.29464787\n",
            "   0.56064124 -0.2071806   0.13401678  0.12719203  0.10165733  0.61737663\n",
            "   0.90976587]\n",
            " [-0.98657135 -0.32327905 -0.65176965  0.66792906 -0.22933211 -0.20753188\n",
            "   0.43824097  0.19874428  0.24373934 -0.78043161  0.63697798  0.08558965\n",
            "  -1.03461549]\n",
            " [ 0.23161406  0.26162025  0.41809995  0.22459404  0.2028337  -0.08711598\n",
            "  -0.99888221  0.00843632 -0.37775612  0.65323959 -0.73863531 -0.70296628\n",
            "   0.12484963]]\n",
            "[[ 0.41030119 -0.03148562  0.13676704 -0.41134759  0.05383263  0.22360478\n",
            "   0.31670971 -0.15968597  0.11370031  0.07036472  0.1110665   0.30981116\n",
            "   0.51691919]\n",
            " [-0.5426495  -0.20155646 -0.25667025  0.28071006 -0.14835806 -0.0406011\n",
            "   0.12453008  0.0829087   0.10087435 -0.44571802  0.27319166  0.09645505\n",
            "  -0.51870207]\n",
            " [ 0.13234831  0.23304208  0.1199032   0.13063753  0.09452543 -0.18300368\n",
            "  -0.44123979  0.07677727 -0.21457466  0.3753533  -0.38425816 -0.40626621\n",
            "   0.00178288]]\n"
          ],
          "name": "stdout"
        }
      ]
    },
    {
      "cell_type": "code",
      "metadata": {
        "id": "bhUnl9I2VRBt",
        "outputId": "5a47c186-90b6-473e-cf57-0973885b60ac",
        "colab": {
          "base_uri": "https://localhost:8080/",
          "height": 633
        }
      },
      "source": [
        "# L1 규제의 규제강도(C=1/λ)를 바꿔가며 계수 추정치 관찰\n",
        "print(lr1_10.intercept_)\n",
        "print(lr1_1.intercept_)\n",
        "print(lr1_0_1.intercept_)\n",
        "\n",
        "print(lr1_10.coef_)\n",
        "print(lr1_1.coef_)\n",
        "print(lr1_0_1.coef_)"
      ],
      "execution_count": 14,
      "outputs": [
        {
          "output_type": "stream",
          "text": [
            "[ 0.39334184  0.5958625  -0.98920434]\n",
            "[ 0.28462985  0.54413385 -0.8287637 ]\n",
            "[ 0.05085504  0.30693808 -0.35779311]\n",
            "[[ 1.19997383e+00  0.00000000e+00  1.54580407e-01 -1.57710818e+00\n",
            "   0.00000000e+00  2.84110640e-01  8.25653391e-01  0.00000000e+00\n",
            "   0.00000000e+00  0.00000000e+00  0.00000000e+00  8.79401443e-01\n",
            "   1.62309433e+00]\n",
            " [-1.78064452e+00 -4.56713816e-01 -1.47383462e+00  1.05802427e+00\n",
            "  -2.92893382e-01 -4.06457188e-01  7.01037258e-01  4.65557053e-01\n",
            "   2.08045179e-01 -1.56217122e+00  1.10248967e+00  0.00000000e+00\n",
            "  -1.93798201e+00]\n",
            " [ 5.39392997e-02  1.17354860e-01  7.93799029e-01  0.00000000e+00\n",
            "   1.77579266e-01  0.00000000e+00 -2.03734189e+00 -6.11569248e-06\n",
            "  -3.41178760e-01  1.12646922e+00 -1.21297461e+00 -9.54584609e-01\n",
            "   0.00000000e+00]]\n",
            "[[ 0.0313239   0.          0.         -1.17721748  0.          0.\n",
            "   0.02148411  0.          0.          0.          0.          0.62105\n",
            "   0.97646011]\n",
            " [-1.58450657 -0.1446383  -0.77389205  0.04388529 -0.0731721   0.\n",
            "   0.          0.12895574  0.         -0.98296559  0.23622794  0.\n",
            "  -1.21587376]\n",
            " [ 0.          0.          0.          0.          0.          0.\n",
            "  -2.08083573  0.         -0.04410569  0.27113817 -0.80443491 -0.65929035\n",
            "   0.        ]]\n",
            "[[ 0.          0.          0.         -0.04184623  0.          0.\n",
            "   0.23299536  0.          0.          0.          0.          0.\n",
            "   0.84042285]\n",
            " [-0.8348383   0.          0.          0.          0.          0.\n",
            "   0.          0.          0.         -0.4233421   0.          0.\n",
            "  -0.20651752]\n",
            " [ 0.          0.          0.          0.          0.          0.\n",
            "  -0.60150089  0.          0.          0.10503944 -0.3520872  -0.521087\n",
            "   0.        ]]\n"
          ],
          "name": "stdout"
        }
      ]
    },
    {
      "cell_type": "code",
      "metadata": {
        "id": "SZKNdyW2VRBx",
        "outputId": "f3590d42-41a5-49d0-cc28-f1754afeca97"
      },
      "source": [
        "lr2_10.fit(X_train, y_train)\n",
        "print('Training accuracy with L2 and λ=0.1:', lr2_10.score(X_train, y_train))\n",
        "print('Test accuracy with L2 and λ=0.1:', lr2_10.score(X_test, y_test))\n",
        "\n",
        "lr2_1.fit(X_train, y_train)  # warning..\n",
        "print('Training accuracy with L2 and λ=1:', lr2_1.score(X_train, y_train))\n",
        "print('Test accuracy with L2 and λ=1:', lr2_1.score(X_test, y_test))\n",
        "\n",
        "lr2_0_1.fit(X_train, y_train)\n",
        "print('Training accuracy with L2 and λ=10:', lr2_0_1.score(X_train, y_train))\n",
        "print('Test accuracy with L2 and λ=10:', lr2_0_1.score(X_test, y_test))\n",
        "\n",
        "lr1_10.fit(X_train, y_train)\n",
        "print('Training accuracy with L1 and λ=0.1:', lr1_10.score(X_train, y_train))\n",
        "print('Test accuracy with L1 and λ=0.1:', lr1_10.score(X_test, y_test))\n",
        "\n",
        "lr1_1.fit(X_train, y_train)\n",
        "print('Training accuracy with L1 and λ=1:', lr1_1.score(X_train, y_train))\n",
        "print('Test accuracy with L1 and λ=1:', lr1_1.score(X_test, y_test))\n",
        "\n",
        "lr1_0_1.fit(X_train, y_train)\n",
        "print('Training accuracy with L1 and λ=10:', lr1_0_1.score(X_train, y_train))\n",
        "print('Test accuracy with L1 and λ=10:', lr1_0_1.score(X_test, y_test))"
      ],
      "execution_count": null,
      "outputs": [
        {
          "output_type": "stream",
          "text": [
            "Training accuracy with L2 and λ=0.1: 1.0\n",
            "Test accuracy with L2 and λ=0.1: 0.9444444444444444\n",
            "Training accuracy with L2 and λ=1: 0.9838709677419355\n",
            "Test accuracy with L2 and λ=1: 0.9444444444444444\n",
            "Training accuracy with L2 and λ=10: 0.9758064516129032\n",
            "Test accuracy with L2 and λ=10: 0.9259259259259259\n",
            "Training accuracy with L1 and λ=0.1: 1.0\n",
            "Test accuracy with L1 and λ=0.1: 0.9074074074074074\n",
            "Training accuracy with L1 and λ=1: 0.9838709677419355\n",
            "Test accuracy with L1 and λ=1: 0.9074074074074074\n",
            "Training accuracy with L1 and λ=10: 0.9354838709677419\n",
            "Test accuracy with L1 and λ=10: 0.8888888888888888\n"
          ],
          "name": "stdout"
        },
        {
          "output_type": "stream",
          "text": [
            "C:\\Anaconda3\\lib\\site-packages\\sklearn\\linear_model\\logistic.py:432: FutureWarning: Default solver will be changed to 'lbfgs' in 0.22. Specify a solver to silence this warning.\n",
            "  FutureWarning)\n",
            "C:\\Anaconda3\\lib\\site-packages\\sklearn\\linear_model\\logistic.py:469: FutureWarning: Default multi_class will be changed to 'auto' in 0.22. Specify the multi_class option to silence this warning.\n",
            "  \"this warning.\", FutureWarning)\n",
            "C:\\Anaconda3\\lib\\site-packages\\sklearn\\linear_model\\logistic.py:432: FutureWarning: Default solver will be changed to 'lbfgs' in 0.22. Specify a solver to silence this warning.\n",
            "  FutureWarning)\n",
            "C:\\Anaconda3\\lib\\site-packages\\sklearn\\linear_model\\logistic.py:469: FutureWarning: Default multi_class will be changed to 'auto' in 0.22. Specify the multi_class option to silence this warning.\n",
            "  \"this warning.\", FutureWarning)\n",
            "C:\\Anaconda3\\lib\\site-packages\\sklearn\\linear_model\\logistic.py:432: FutureWarning: Default solver will be changed to 'lbfgs' in 0.22. Specify a solver to silence this warning.\n",
            "  FutureWarning)\n",
            "C:\\Anaconda3\\lib\\site-packages\\sklearn\\linear_model\\logistic.py:469: FutureWarning: Default multi_class will be changed to 'auto' in 0.22. Specify the multi_class option to silence this warning.\n",
            "  \"this warning.\", FutureWarning)\n",
            "C:\\Anaconda3\\lib\\site-packages\\sklearn\\linear_model\\logistic.py:432: FutureWarning: Default solver will be changed to 'lbfgs' in 0.22. Specify a solver to silence this warning.\n",
            "  FutureWarning)\n",
            "C:\\Anaconda3\\lib\\site-packages\\sklearn\\linear_model\\logistic.py:469: FutureWarning: Default multi_class will be changed to 'auto' in 0.22. Specify the multi_class option to silence this warning.\n",
            "  \"this warning.\", FutureWarning)\n",
            "C:\\Anaconda3\\lib\\site-packages\\sklearn\\linear_model\\logistic.py:432: FutureWarning: Default solver will be changed to 'lbfgs' in 0.22. Specify a solver to silence this warning.\n",
            "  FutureWarning)\n",
            "C:\\Anaconda3\\lib\\site-packages\\sklearn\\linear_model\\logistic.py:469: FutureWarning: Default multi_class will be changed to 'auto' in 0.22. Specify the multi_class option to silence this warning.\n",
            "  \"this warning.\", FutureWarning)\n",
            "C:\\Anaconda3\\lib\\site-packages\\sklearn\\linear_model\\logistic.py:432: FutureWarning: Default solver will be changed to 'lbfgs' in 0.22. Specify a solver to silence this warning.\n",
            "  FutureWarning)\n",
            "C:\\Anaconda3\\lib\\site-packages\\sklearn\\linear_model\\logistic.py:469: FutureWarning: Default multi_class will be changed to 'auto' in 0.22. Specify the multi_class option to silence this warning.\n",
            "  \"this warning.\", FutureWarning)\n"
          ],
          "name": "stderr"
        }
      ]
    },
    {
      "cell_type": "code",
      "metadata": {
        "id": "Cqt8fF2xVRB1",
        "outputId": "2d2e32ad-87cf-430d-e28f-a6f43b2f8ab3"
      },
      "source": [
        "print(lr2_10.intercept_)\n",
        "print(lr2_1.intercept_)\n",
        "print(lr2_0_1.intercept_)\n",
        "\n",
        "print(lr2_10.coef_)\n",
        "print(lr2_1.coef_)\n",
        "print(lr2_0_1.coef_)"
      ],
      "execution_count": null,
      "outputs": [
        {
          "output_type": "stream",
          "text": [
            "[-0.96456004  1.34118396 -0.22390307]\n",
            "[-0.16655119  0.26945958 -0.07022366]\n",
            "[-0.02988443  0.05684191 -0.02613036]\n",
            "[[-8.35654939e-01  1.44150350e+00  1.46570959e+00 -1.27574191e+00\n",
            "   2.09578947e-02  9.54417242e-01  3.00222626e+00 -7.24568499e-02\n",
            "  -1.22897003e+00 -5.54461321e-01 -1.84306873e-02  6.28614504e-01\n",
            "   2.67981633e-02]\n",
            " [ 1.09359574e+00 -2.12095717e+00 -1.21322442e+00  7.34605497e-01\n",
            "  -1.75690138e-02 -1.04233634e+00  1.23716271e+00  2.85603369e+00\n",
            "   1.60402367e+00 -2.48226700e+00  3.26535993e+00 -6.66781906e-01\n",
            "  -2.21810800e-02]\n",
            " [-7.02348476e-01  1.19098753e+00  5.88127902e-01  4.03900064e-02\n",
            "   7.27945504e-02 -3.70618302e-01 -3.76294649e+00 -6.02758148e-01\n",
            "  -7.46352348e-01  1.33638830e+00 -1.36735959e+00 -2.11442785e+00\n",
            "   2.97823296e-03]]\n",
            "[[-3.58983950e-01  4.10637468e-01  3.53872093e-01 -7.42979348e-01\n",
            "  -3.36933385e-02  5.44683231e-01  1.12999767e+00 -5.75279878e-02\n",
            "   5.03329511e-02 -1.89873020e-01  7.55818484e-03  6.14639419e-01\n",
            "   2.00108374e-02]\n",
            " [ 5.83708283e-01 -1.21331455e+00 -2.03985537e-01  4.08802542e-01\n",
            "   1.60762850e-02 -1.92359585e-01  5.48138539e-01  4.11511208e-01\n",
            "   5.57258377e-01 -1.55212916e+00  6.23184914e-01  9.32319399e-02\n",
            "  -1.48922934e-02]\n",
            " [-3.97544028e-01  6.57589662e-01 -2.75435431e-02  9.79082436e-02\n",
            "   3.00861950e-02 -6.18472516e-01 -1.73526232e+00 -6.31254597e-02\n",
            "  -5.97541591e-01  9.57138429e-01 -4.07581305e-01 -1.11166273e+00\n",
            "   5.88167601e-04]]\n",
            "[[-1.26226337e-01  3.93330206e-02  5.54428787e-02 -5.04524375e-01\n",
            "  -4.18202359e-02  1.95902320e-01  3.81751039e-01 -3.25485946e-02\n",
            "   1.18294200e-01 -1.28617540e-01  1.12477626e-02  2.39734903e-01\n",
            "   1.69833587e-02]\n",
            " [ 1.64214209e-01 -5.08066956e-01 -2.91218095e-02  2.31991185e-01\n",
            "   2.99136925e-02  7.95773000e-02  2.36972190e-01  4.87189589e-02\n",
            "   1.58168713e-01 -8.00859234e-01  1.53495930e-01  2.36565769e-01\n",
            "  -1.01836247e-02]\n",
            " [-1.38084802e-01  3.75170958e-01 -2.17741103e-02  5.43678605e-02\n",
            "  -8.24859327e-05 -2.96933155e-01 -7.25585571e-01 -2.17865191e-04\n",
            "  -2.74424219e-01  6.64387737e-01 -1.59728574e-01 -5.06679873e-01\n",
            "  -1.48772700e-03]]\n"
          ],
          "name": "stdout"
        }
      ]
    },
    {
      "cell_type": "code",
      "metadata": {
        "id": "TexKKLSdVRB4",
        "outputId": "25cbe10d-d1da-4826-9998-8274ff516dfe"
      },
      "source": [
        "print(lr1_10.intercept_)\n",
        "print(lr1_1.intercept_)\n",
        "print(lr1_0_1.intercept_)\n",
        "\n",
        "print(lr1_10.coef_)\n",
        "print(lr1_1.coef_)\n",
        "print(lr1_0_1.coef_)"
      ],
      "execution_count": null,
      "outputs": [
        {
          "output_type": "stream",
          "text": [
            "[0. 0. 0.]\n",
            "[0. 0. 0.]\n",
            "[0. 0. 0.]\n",
            "[[-1.01302850e+00  2.39608807e+00  1.71991521e-01 -1.86127869e+00\n",
            "   8.34950377e-02  0.00000000e+00  7.14119679e+00  0.00000000e+00\n",
            "  -2.97774639e+00 -8.18214103e-01  0.00000000e+00  0.00000000e+00\n",
            "   3.49411930e-02]\n",
            " [ 1.31679390e+00 -2.73038551e+00 -3.38001837e+00  9.41289186e-01\n",
            "   0.00000000e+00 -1.95012089e+00  1.91790955e+00  1.23238533e+01\n",
            "   2.58858839e+00 -3.24670367e+00  4.31646082e+00 -5.15270908e-01\n",
            "  -2.73681581e-02]\n",
            " [-2.78642772e-01  1.40323545e+00  0.00000000e+00  3.31841490e-02\n",
            "   1.17547347e-01  0.00000000e+00 -7.98095839e+00  0.00000000e+00\n",
            "   0.00000000e+00  1.24944131e+00 -2.20232349e+00 -3.76082391e+00\n",
            "  -6.33896232e-04]]\n",
            "[[-2.34793075e-02  8.11723037e-02  0.00000000e+00 -7.05407269e-01\n",
            "  -4.59876204e-02  0.00000000e+00  1.97035783e+00  0.00000000e+00\n",
            "   0.00000000e+00  0.00000000e+00  0.00000000e+00  0.00000000e+00\n",
            "   1.76174386e-02]\n",
            " [ 5.87514555e-01 -1.21890126e+00  0.00000000e+00  4.28854104e-01\n",
            "   2.44013384e-02  0.00000000e+00  5.27866494e-01  0.00000000e+00\n",
            "   1.20970058e-01 -1.70853789e+00  0.00000000e+00  0.00000000e+00\n",
            "  -1.43148923e-02]\n",
            " [-1.76756067e-01  4.52854263e-01  0.00000000e+00  1.66366583e-02\n",
            "   1.78552369e-02  0.00000000e+00 -3.17827470e+00  0.00000000e+00\n",
            "   0.00000000e+00  9.13911761e-01  0.00000000e+00 -1.00770209e+00\n",
            "   4.42623020e-04]]\n",
            "[[ 0.          0.          0.         -0.47505119 -0.03844061  0.\n",
            "   0.          0.          0.          0.          0.          0.\n",
            "   0.01561705]\n",
            " [ 0.         -0.05578404  0.          0.18704578  0.05098921  0.\n",
            "   0.          0.          0.         -0.85684899  0.          0.\n",
            "  -0.00782387]\n",
            " [ 0.          0.          0.          0.         -0.00911855  0.\n",
            "  -1.12960892  0.          0.          0.69050998  0.          0.\n",
            "  -0.00247412]]\n"
          ],
          "name": "stdout"
        }
      ]
    },
    {
      "cell_type": "code",
      "metadata": {
        "id": "mM7-rjF_VRB7"
      },
      "source": [
        ""
      ],
      "execution_count": null,
      "outputs": []
    }
  ]
}
